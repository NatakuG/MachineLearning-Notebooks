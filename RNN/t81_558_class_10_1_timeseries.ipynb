{
  "nbformat": 4,
  "nbformat_minor": 0,
  "metadata": {
    "anaconda-cloud": {},
    "kernelspec": {
      "display_name": "Python 3.6 (tensorflow)",
      "language": "python",
      "name": "tensorflow"
    },
    "language_info": {
      "codemirror_mode": {
        "name": "ipython",
        "version": 3
      },
      "file_extension": ".py",
      "mimetype": "text/x-python",
      "name": "python",
      "nbconvert_exporter": "python",
      "pygments_lexer": "ipython3",
      "version": "3.7.7"
    },
    "colab": {
      "name": "t81_558_class_10_1_timeseries.ipynb",
      "provenance": [],
      "collapsed_sections": [],
      "include_colab_link": true
    }
  },
  "cells": [
    {
      "cell_type": "markdown",
      "metadata": {
        "id": "view-in-github",
        "colab_type": "text"
      },
      "source": [
        "<a href=\"https://colab.research.google.com/github/NatakuG/MachineLearning-Notebooks/blob/main/RNN/t81_558_class_10_1_timeseries.ipynb\" target=\"_parent\"><img src=\"https://colab.research.google.com/assets/colab-badge.svg\" alt=\"Open In Colab\"/></a>"
      ]
    },
    {
      "cell_type": "markdown",
      "metadata": {
        "id": "szZfIa47oJKp"
      },
      "source": [
        "# T81-558: Applications of Deep Neural Networks\n",
        "**Module 10: Time Series in Keras**  \n",
        "**Part 10.1: Time Series Data Encoding for Deep Learning**\n",
        "* Instructor: [Jeff Heaton](https://sites.wustl.edu/jeffheaton/), McKelvey School of Engineering, [Washington University in St. Louis](https://engineering.wustl.edu/Programs/Pages/default.aspx)\n",
        "* For more information visit the [class website](https://sites.wustl.edu/jeffheaton/t81-558/)."
      ]
    },
    {
      "cell_type": "markdown",
      "metadata": {
        "id": "wwpsagPqoJKq"
      },
      "source": [
        "# Module 10 Material\n",
        "\n",
        "* **Part 10.1: Time Series Data Encoding for Deep Learning** [[Video]](https://www.youtube.com/watch?v=dMUmHsktl04&list=PLjy4p-07OYzulelvJ5KVaT2pDlxivl_BN) [[Origin Notebook]](https://colab.research.google.com/github/jeffheaton/t81_558_deep_learning/blob/master/t81_558_class_10_1_timeseries.ipynb) [[My Notebook Github]](https://colab.research.google.com/github/NatakuG/MachineLearning-Notebooks/blob/main/RNN/t81_558_class_10_1_timeseries.ipynb)\n",
        "* Part 10.2: Programming LSTM with Keras and TensorFlow [[Video]](https://www.youtube.com/watch?v=wY0dyFgNCgY&list=PLjy4p-07OYzulelvJ5KVaT2pDlxivl_BN) [[Origin Notebook]](https://colab.research.google.com/github/jeffheaton/t81_558_deep_learning/blob/master/t81_558_class_10_2_lstm.ipynb) [[My Notebook Github]](https://colab.research.google.com/github/NatakuG/MachineLearning-Notebooks/blob/main/RNN/t81_558_class_10_2_lstm.ipynb)\n",
        "* Part 10.3: Text Generation with Keras and TensorFlow [[Video]](https://www.youtube.com/watch?v=6ORnRAz3gnA&list=PLjy4p-07OYzulelvJ5KVaT2pDlxivl_BN) [[Origin Notebook]](https://colab.research.google.com/github/jeffheaton/t81_558_deep_learning/blob/master/t81_558_class_10_3_text_generation.ipynb) [[My Notebook Github]](https://colab.research.google.com/github/NatakuG/MachineLearning-Notebooks/blob/main/RNN/t81_558_class_10_3_text_generation.ipynb)\n",
        "* Part 10.4: Image Captioning with Keras and TensorFlow [[Video]](https://www.youtube.com/watch?v=NmoW_AYWkb4&list=PLjy4p-07OYzulelvJ5KVaT2pDlxivl_BN) [[Origin Notebook]](https://colab.research.google.com/github/jeffheaton/t81_558_deep_learning/blob/master/t81_558_class_10_4_captioning.ipynb) [[My Notebook Github]](https://colab.research.google.com/github/NatakuG/MachineLearning-Notebooks/blob/main/RNN/t81_558_class_10_4_captioning.ipynb)\n",
        "* Part 10.5: Temporal CNN in Keras and TensorFlow [[Video]](https://www.youtube.com/watch?v=i390g8acZwk&list=PLjy4p-07OYzulelvJ5KVaT2pDlxivl_BN) [[Origin Notebook]](https://colab.research.google.com/github/jeffheaton/t81_558_deep_learning/blob/master/t81_558_class_10_5_temporal_cnn.ipynb) [[My Notebook Github]](https://colab.research.google.com/github/NatakuG/MachineLearning-Notebooks/blob/main/RNN/t81_558_class_10_5_temporal_cnn.ipynb)"
      ]
    },
    {
      "cell_type": "markdown",
      "metadata": {
        "id": "cPK7VdUVoJKq"
      },
      "source": [
        "# Google CoLab Instructions\n",
        "\n",
        "The following code ensures that Google CoLab is running the correct version of TensorFlow."
      ]
    },
    {
      "cell_type": "code",
      "metadata": {
        "id": "ZtQkwm0GoJKq",
        "outputId": "da5bada5-8e45-4e9e-84be-5745a823a0e2"
      },
      "source": [
        "try:\n",
        "    %tensorflow_version 2.x\n",
        "    COLAB = True\n",
        "    print(\"Note: using Google CoLab\")\n",
        "except:\n",
        "    print(\"Note: not using Google CoLab\")\n",
        "    COLAB = False"
      ],
      "execution_count": null,
      "outputs": [
        {
          "output_type": "stream",
          "text": [
            "Note: not using Google CoLab\n"
          ],
          "name": "stdout"
        }
      ]
    },
    {
      "cell_type": "markdown",
      "metadata": {
        "id": "__RzGfruoJKr"
      },
      "source": [
        "# Part 10.1: Time Series Data Encoding\n",
        "\n",
        "In this chapter, we will examine time series encoding and recurrent networks, two topics that are logical to put together because they are both methods for dealing with data that spans over time. Time series encoding deals with representing events that occur over time to a neural network.  There are many different methods to encode data that occur over time to a neural network.  This encoding is necessary because a feedforward neural network will always produce the same output vector for a given input vector. Recurrent neural networks do not require encoding of time series data because they are able to handle data that occur over time automatically. \n",
        "\n",
        "The variation in temperature during the week is an example of time-series data. For instance, if we know that today’s temperature is 25 degrees, and tomorrow’s temperature is 27 degrees, the recurrent neural networks and time series encoding provide another option to predict the correct temperature for the week. Conversely, a traditional feedforward neural network will always respond with the same output for a given input.  If we train a feedforward neural network to predict tomorrow’s temperature, it should return a value of 27 for 25.  The fact that it will always output 27 when given 25 might be a hindrance to its predictions.  Surely the temperature of 27 will not always follow 25.  It would be better for the neural network to consider the temperatures for a series of days before the prediction.  Perhaps the temperature over the last week might allow us to predict tomorrow’s temperature. Therefore, recurrent neural networks and time series encoding represent two different approaches to representing data over time to a neural network.   \n",
        "\n",
        "Previously we trained neural networks with input ($x$) and expected output ($y$).  $X$ was a matrix, the rows were training examples, and the columns were values to be predicted.  The $x$ value will now contain sequences of data.  The definition of the $y$ value will stay the same.\n",
        "\n",
        "Dimensions of the training set ($x$):\n",
        "* Axis 1: Training set elements (sequences) (must be of the same size as $y$ size)\n",
        "* Axis 2: Members of sequence\n",
        "* Axis 3: Features in data (like input neurons)\n",
        "\n",
        "Previously, we might take as input a single stock price, to predict if we should buy (1), sell (-1), or hold (0). The following code illustrates this encoding."
      ]
    },
    {
      "cell_type": "code",
      "metadata": {
        "id": "KrGVuii5oJKs",
        "outputId": "36af6d8c-1f0f-4868-c590-c61c1c4aad8d"
      },
      "source": [
        "# \n",
        "\n",
        "x = [\n",
        "    [32],\n",
        "    [41],\n",
        "    [39],\n",
        "    [20],\n",
        "    [15]\n",
        "]\n",
        "\n",
        "y = [\n",
        "    1,\n",
        "    -1,\n",
        "    0,\n",
        "    -1,\n",
        "    1\n",
        "]\n",
        "\n",
        "print(x)\n",
        "print(y)"
      ],
      "execution_count": null,
      "outputs": [
        {
          "output_type": "stream",
          "text": [
            "[[32], [41], [39], [20], [15]]\n",
            "[1, -1, 0, -1, 1]\n"
          ],
          "name": "stdout"
        }
      ]
    },
    {
      "cell_type": "markdown",
      "metadata": {
        "id": "kbeU-xZOoJKs"
      },
      "source": [
        "The following code builds a CSV file from scratch, to see it as a data frame, use the following:"
      ]
    },
    {
      "cell_type": "code",
      "metadata": {
        "scrolled": true,
        "id": "8SlLfBEGoJKs",
        "outputId": "ea136f2b-e0a8-43f4-b034-bc24d1b91cbf"
      },
      "source": [
        "from IPython.display import display, HTML\n",
        "import pandas as pd\n",
        "import numpy as np\n",
        "\n",
        "x = np.array(x)\n",
        "print(x[:,0])\n",
        "\n",
        "\n",
        "df = pd.DataFrame({'x':x[:,0], 'y':y})\n",
        "display(df)"
      ],
      "execution_count": null,
      "outputs": [
        {
          "output_type": "stream",
          "text": [
            "[32 41 39 20 15]\n"
          ],
          "name": "stdout"
        },
        {
          "output_type": "display_data",
          "data": {
            "text/html": [
              "<div>\n",
              "<style scoped>\n",
              "    .dataframe tbody tr th:only-of-type {\n",
              "        vertical-align: middle;\n",
              "    }\n",
              "\n",
              "    .dataframe tbody tr th {\n",
              "        vertical-align: top;\n",
              "    }\n",
              "\n",
              "    .dataframe thead th {\n",
              "        text-align: right;\n",
              "    }\n",
              "</style>\n",
              "<table border=\"1\" class=\"dataframe\">\n",
              "  <thead>\n",
              "    <tr style=\"text-align: right;\">\n",
              "      <th></th>\n",
              "      <th>x</th>\n",
              "      <th>y</th>\n",
              "    </tr>\n",
              "  </thead>\n",
              "  <tbody>\n",
              "    <tr>\n",
              "      <th>0</th>\n",
              "      <td>32</td>\n",
              "      <td>1</td>\n",
              "    </tr>\n",
              "    <tr>\n",
              "      <th>1</th>\n",
              "      <td>41</td>\n",
              "      <td>-1</td>\n",
              "    </tr>\n",
              "    <tr>\n",
              "      <th>2</th>\n",
              "      <td>39</td>\n",
              "      <td>0</td>\n",
              "    </tr>\n",
              "    <tr>\n",
              "      <th>3</th>\n",
              "      <td>20</td>\n",
              "      <td>-1</td>\n",
              "    </tr>\n",
              "    <tr>\n",
              "      <th>4</th>\n",
              "      <td>15</td>\n",
              "      <td>1</td>\n",
              "    </tr>\n",
              "  </tbody>\n",
              "</table>\n",
              "</div>"
            ],
            "text/plain": [
              "    x  y\n",
              "0  32  1\n",
              "1  41 -1\n",
              "2  39  0\n",
              "3  20 -1\n",
              "4  15  1"
            ]
          },
          "metadata": {
            "tags": []
          }
        }
      ]
    },
    {
      "cell_type": "markdown",
      "metadata": {
        "id": "q8Lglx0KoJKt"
      },
      "source": [
        "You might want to put volume in with the stock price.  The following code shows how we can add an additional dimension to handle the volume."
      ]
    },
    {
      "cell_type": "code",
      "metadata": {
        "id": "nZnB_jdUoJKt",
        "outputId": "bdd57130-8fb2-4efd-a58c-c738dd08f699"
      },
      "source": [
        "x = [\n",
        "    [32,1383],\n",
        "    [41,2928],\n",
        "    [39,8823],\n",
        "    [20,1252],\n",
        "    [15,1532]\n",
        "]\n",
        "\n",
        "y = [\n",
        "    1,\n",
        "    -1,\n",
        "    0,\n",
        "    -1,\n",
        "    1\n",
        "]\n",
        "\n",
        "print(x)\n",
        "print(y)"
      ],
      "execution_count": null,
      "outputs": [
        {
          "output_type": "stream",
          "text": [
            "[[32, 1383], [41, 2928], [39, 8823], [20, 1252], [15, 1532]]\n",
            "[1, -1, 0, -1, 1]\n"
          ],
          "name": "stdout"
        }
      ]
    },
    {
      "cell_type": "markdown",
      "metadata": {
        "id": "btoWVmBzoJKt"
      },
      "source": [
        "Again, very similar to what we did before.  The following shows this as a data frame."
      ]
    },
    {
      "cell_type": "code",
      "metadata": {
        "id": "-amX7GPaoJKu",
        "outputId": "442d3787-a94a-4962-8ec7-267f6a4feb82"
      },
      "source": [
        "from IPython.display import display, HTML\n",
        "import pandas as pd\n",
        "import numpy as np\n",
        "\n",
        "x = np.array(x)\n",
        "print(x[:,0])\n",
        "\n",
        "\n",
        "df = pd.DataFrame({'price':x[:,0], 'volume':x[:,1], 'y':y})\n",
        "display(df)"
      ],
      "execution_count": null,
      "outputs": [
        {
          "output_type": "stream",
          "text": [
            "[32 41 39 20 15]\n"
          ],
          "name": "stdout"
        },
        {
          "output_type": "display_data",
          "data": {
            "text/html": [
              "<div>\n",
              "<style scoped>\n",
              "    .dataframe tbody tr th:only-of-type {\n",
              "        vertical-align: middle;\n",
              "    }\n",
              "\n",
              "    .dataframe tbody tr th {\n",
              "        vertical-align: top;\n",
              "    }\n",
              "\n",
              "    .dataframe thead th {\n",
              "        text-align: right;\n",
              "    }\n",
              "</style>\n",
              "<table border=\"1\" class=\"dataframe\">\n",
              "  <thead>\n",
              "    <tr style=\"text-align: right;\">\n",
              "      <th></th>\n",
              "      <th>price</th>\n",
              "      <th>volume</th>\n",
              "      <th>y</th>\n",
              "    </tr>\n",
              "  </thead>\n",
              "  <tbody>\n",
              "    <tr>\n",
              "      <th>0</th>\n",
              "      <td>32</td>\n",
              "      <td>1383</td>\n",
              "      <td>1</td>\n",
              "    </tr>\n",
              "    <tr>\n",
              "      <th>1</th>\n",
              "      <td>41</td>\n",
              "      <td>2928</td>\n",
              "      <td>-1</td>\n",
              "    </tr>\n",
              "    <tr>\n",
              "      <th>2</th>\n",
              "      <td>39</td>\n",
              "      <td>8823</td>\n",
              "      <td>0</td>\n",
              "    </tr>\n",
              "    <tr>\n",
              "      <th>3</th>\n",
              "      <td>20</td>\n",
              "      <td>1252</td>\n",
              "      <td>-1</td>\n",
              "    </tr>\n",
              "    <tr>\n",
              "      <th>4</th>\n",
              "      <td>15</td>\n",
              "      <td>1532</td>\n",
              "      <td>1</td>\n",
              "    </tr>\n",
              "  </tbody>\n",
              "</table>\n",
              "</div>"
            ],
            "text/plain": [
              "   price  volume  y\n",
              "0     32    1383  1\n",
              "1     41    2928 -1\n",
              "2     39    8823  0\n",
              "3     20    1252 -1\n",
              "4     15    1532  1"
            ]
          },
          "metadata": {
            "tags": []
          }
        }
      ]
    },
    {
      "cell_type": "markdown",
      "metadata": {
        "id": "jxR3oOpYoJKu"
      },
      "source": [
        "Now we get to sequence format.  We want to predict something over a sequence, so the data format needs to add a dimension.  A maximum sequence length must be specified, but the individual sequences can be of any length."
      ]
    },
    {
      "cell_type": "code",
      "metadata": {
        "id": "Vi5QNZO5oJKu",
        "outputId": "83402ca3-bd4d-49a7-c313-8b41f816f7f8"
      },
      "source": [
        "x = [\n",
        "    [[32,1383],[41,2928],[39,8823],[20,1252],[15,1532]],\n",
        "    [[35,8272],[32,1383],[41,2928],[39,8823],[20,1252]],\n",
        "    [[37,2738],[35,8272],[32,1383],[41,2928],[39,8823]],\n",
        "    [[34,2845],[37,2738],[35,8272],[32,1383],[41,2928]],\n",
        "    [[32,2345],[34,2845],[37,2738],[35,8272],[32,1383]],\n",
        "]\n",
        "\n",
        "y = [\n",
        "    1,\n",
        "    -1,\n",
        "    0,\n",
        "    -1,\n",
        "    1\n",
        "]\n",
        "\n",
        "print(x)\n",
        "print(y)"
      ],
      "execution_count": null,
      "outputs": [
        {
          "output_type": "stream",
          "text": [
            "[[[32, 1383], [41, 2928], [39, 8823], [20, 1252], [15, 1532]], [[35, 8272], [32, 1383], [41, 2928], [39, 8823], [20, 1252]], [[37, 2738], [35, 8272], [32, 1383], [41, 2928], [39, 8823]], [[34, 2845], [37, 2738], [35, 8272], [32, 1383], [41, 2928]], [[32, 2345], [34, 2845], [37, 2738], [35, 8272], [32, 1383]]]\n",
            "[1, -1, 0, -1, 1]\n"
          ],
          "name": "stdout"
        }
      ]
    },
    {
      "cell_type": "markdown",
      "metadata": {
        "id": "aY_uphwKoJKu"
      },
      "source": [
        "Even if there is only one feature (price), the 3rd dimension must be used:"
      ]
    },
    {
      "cell_type": "code",
      "metadata": {
        "id": "SpP_UJuAoJKv",
        "outputId": "fbd8cb53-0543-43d4-ff37-88174654d6bd"
      },
      "source": [
        "x = [\n",
        "    [[32],[41],[39],[20],[15]],\n",
        "    [[35],[32],[41],[39],[20]],\n",
        "    [[37],[35],[32],[41],[39]],\n",
        "    [[34],[37],[35],[32],[41]],\n",
        "    [[32],[34],[37],[35],[32]],\n",
        "]\n",
        "\n",
        "y = [\n",
        "    1,\n",
        "    -1,\n",
        "    0,\n",
        "    -1,\n",
        "    1\n",
        "]\n",
        "\n",
        "print(x)\n",
        "print(y)"
      ],
      "execution_count": null,
      "outputs": [
        {
          "output_type": "stream",
          "text": [
            "[[[32], [41], [39], [20], [15]], [[35], [32], [41], [39], [20]], [[37], [35], [32], [41], [39]], [[34], [37], [35], [32], [41]], [[32], [34], [37], [35], [32]]]\n",
            "[1, -1, 0, -1, 1]\n"
          ],
          "name": "stdout"
        }
      ]
    },
    {
      "cell_type": "markdown",
      "metadata": {
        "id": "LrFY8TBuoJKv"
      },
      "source": [
        "# Module 10 Assignment\n",
        "\n",
        "You can find the first assignment here: [assignment 10](https://github.com/jeffheaton/t81_558_deep_learning/blob/master/assignments/assignment_yourname_class10.ipynb)"
      ]
    },
    {
      "cell_type": "code",
      "metadata": {
        "id": "bq7g9op3oJKv"
      },
      "source": [
        ""
      ],
      "execution_count": null,
      "outputs": []
    }
  ]
}